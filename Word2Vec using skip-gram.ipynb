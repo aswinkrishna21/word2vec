{
 "cells": [
  {
   "cell_type": "code",
   "execution_count": 1,
   "metadata": {},
   "outputs": [],
   "source": [
    "import nltk\n",
    "from nltk.tokenize import sent_tokenize, word_tokenize\n",
    "import numpy as np"
   ]
  },
  {
   "cell_type": "code",
   "execution_count": 2,
   "metadata": {},
   "outputs": [],
   "source": [
    "def tokenize(text):\n",
    "    pattern = word_tokenize(text)\n",
    "    return pattern"
   ]
  },
  {
   "cell_type": "code",
   "execution_count": 3,
   "metadata": {},
   "outputs": [],
   "source": [
    "def mapping(tokens):\n",
    "    wordToIndex = dict()\n",
    "    indexToWord = dict()\n",
    "\n",
    "    for i, token in enumerate(set(tokens)):\n",
    "        wordToIndex[token] = i\n",
    "        indexToWord[i] = token\n",
    "    return wordToIndex, indexToWord"
   ]
  },
  {
   "cell_type": "code",
   "execution_count": 4,
   "metadata": {},
   "outputs": [],
   "source": [
    "def generateData(tokens, wordToIndex, context_size):\n",
    "    length = len(tokens)\n",
    "    x, y = [], []\n",
    "\n",
    "    for i in range(length):\n",
    "        nbr_inds = list(range(max(0, i - context_size), i)) + \\\n",
    "                   list(range(i + 1, min(length, i + context_size + 1)))\n",
    "        for j in nbr_inds:\n",
    "            x.append(wordToIndex[tokens[i]])\n",
    "            y.append(wordToIndex[tokens[j]])\n",
    "            \n",
    "    x = np.array(x)\n",
    "    x = np.expand_dims(x, axis=0)\n",
    "    y = np.array(y)\n",
    "    y = np.expand_dims(y, axis=0)\n",
    "\n",
    "    return x, y"
   ]
  },
  {
   "cell_type": "code",
   "execution_count": 5,
   "metadata": {},
   "outputs": [],
   "source": [
    "s = \"Lionel Messi is the greatest footballer to ever grace the pitch.\"\n",
    "tokens = tokenize(s)\n",
    "word_to_index, index_to_word = mapping(tokens)\n",
    "x, y = generateData(tokens, word_to_index, 5)\n",
    "#x corresponds to the index of the word(in word_to_index) while its corresponding element in y \n",
    "#is one of its context words (x is the centre)\n",
    "vocabulary_size = len(index_to_word)\n",
    "m = y.shape[1]"
   ]
  },
  {
   "cell_type": "code",
   "execution_count": 6,
   "metadata": {},
   "outputs": [],
   "source": [
    "#y_oh is one hot vector \n",
    "y_oh = np.zeros((vocabulary_size, m))\n",
    "y_oh[y.flatten(), np.arange(m)] = 1\n",
    "#y_oh has shape (11, 90). the first row corresponds to word_to_index's first element (here, 'the') and the number of ones\n",
    "#for each row is equal to the number of context words all of its(the word's) occurences have combined"
   ]
  },
  {
   "cell_type": "code",
   "execution_count": 7,
   "metadata": {},
   "outputs": [],
   "source": [
    "def initialize_word_embeddings(vocabulary_size, dimension):\n",
    "    \n",
    "    word_embedding = np.random.randn(vocabulary_size, dimension) * 0.01\n",
    "    assert(word_embedding.shape == (vocabulary_size, dimension))\n",
    "    return word_embedding"
   ]
  },
  {
   "cell_type": "code",
   "execution_count": 8,
   "metadata": {},
   "outputs": [],
   "source": [
    "def initialize_dense_layer(input_size, output_size):\n",
    "    \n",
    "    dense = np.random.randn(output_size, input_size) * 0.01\n",
    "    assert(dense.shape == (output_size, input_size))\n",
    "    return dense"
   ]
  },
  {
   "cell_type": "code",
   "execution_count": 9,
   "metadata": {},
   "outputs": [],
   "source": [
    "def initialize_parameters(vocabulary_size, dimension):\n",
    "    \n",
    "    word_embedding = initialize_word_embeddings(vocabulary_size, dimension)\n",
    "    dense = initialize_dense_layer(dimension, vocabulary_size)\n",
    "    \n",
    "    params = {}\n",
    "    params['word_embedding'] = word_embedding\n",
    "    params['dense'] = dense\n",
    "    \n",
    "    return params"
   ]
  },
  {
   "cell_type": "code",
   "execution_count": 10,
   "metadata": {},
   "outputs": [],
   "source": [
    "def word_vectors(ind, params):\n",
    "    #vec is an np array of shape (1, m)\n",
    "    m = ind.shape[1]\n",
    "    word_embedding = params['word_embedding']\n",
    "    word_vec = word_embedding[ind.flatten(), :].T\n",
    "    \n",
    "    assert(word_vec.shape == (word_embedding.shape[1], m))\n",
    "    \n",
    "    return word_vec"
   ]
  },
  {
   "cell_type": "code",
   "execution_count": 11,
   "metadata": {},
   "outputs": [],
   "source": [
    "def linear_dense(word_vec, params):\n",
    "    #word_vec has shape (dimension, m)\n",
    "    m = word_vec.shape[1]\n",
    "    dense = params['dense']\n",
    "    z = np.dot(dense, word_vec)\n",
    "    \n",
    "    assert(z.shape == (dense.shape[0], m))\n",
    "    \n",
    "    return dense, z"
   ]
  },
  {
   "cell_type": "code",
   "execution_count": 12,
   "metadata": {},
   "outputs": [],
   "source": [
    "def softmax(z):\n",
    "    output = np.divide(np.exp(z), np.sum(np.exp(z), axis=0, keepdims=True) + 0.001)\n",
    "    assert(output.shape == z.shape)\n",
    "    return output"
   ]
  },
  {
   "cell_type": "code",
   "execution_count": 13,
   "metadata": {},
   "outputs": [],
   "source": [
    "def forward_prop(ind, params):\n",
    "    word_vec = word_vectors(ind, params)\n",
    "    dense, z = linear_dense(word_vec, params)\n",
    "    output = softmax(z)\n",
    "    \n",
    "    cache = {}\n",
    "    cache['ind'] = ind\n",
    "    cache['word_vec'] = word_vec\n",
    "    cache['dense'] = dense\n",
    "    cache['z'] = z\n",
    "    \n",
    "    return output, cache"
   ]
  },
  {
   "cell_type": "code",
   "execution_count": 14,
   "metadata": {},
   "outputs": [],
   "source": [
    "def cross_entropy_cost(output, y):\n",
    "    #output has shape (vocabulary_size, m)\n",
    "    m = output.shape[1]\n",
    "    cost = (-1/m) * np.sum(np.sum(y * np.log(output + 0.001), axis = 0, keepdims = True), axis = 1)\n",
    "    return cost"
   ]
  },
  {
   "cell_type": "code",
   "execution_count": 15,
   "metadata": {},
   "outputs": [],
   "source": [
    "def softmax_grad(y, output):\n",
    "    #dZ stands for dL/dZ where L is the cross entropy cost function\n",
    "    dZ = output - y\n",
    "    \n",
    "    assert(dZ.shape == output.shape)\n",
    "    return dZ"
   ]
  },
  {
   "cell_type": "code",
   "execution_count": 16,
   "metadata": {},
   "outputs": [],
   "source": [
    "def dense_grad(dZ, cache):\n",
    "    dense = cache['dense']\n",
    "    word_vec = cache['word_vec']\n",
    "    m = word_vec.shape[1]\n",
    "    \n",
    "    ddense = (1/m) * np.dot(dZ, word_vec.T)\n",
    "    dwordvec = np.dot(dense.T, dZ)\n",
    "    \n",
    "    assert(ddense.shape == dense.shape)\n",
    "    assert(dwordvec.shape == word_vec.shape)\n",
    "    \n",
    "    return ddense, dwordvec"
   ]
  },
  {
   "cell_type": "code",
   "execution_count": 17,
   "metadata": {},
   "outputs": [],
   "source": [
    "def back_prop(y, output, cache):\n",
    "    dZ = softmax_grad(y, output)\n",
    "    ddense, dwordvec = dense_grad(dZ, cache)\n",
    "    \n",
    "    grads = dict()\n",
    "    grads['dZ'] = dZ\n",
    "    grads['ddense'] = ddense\n",
    "    grads['dwordvec'] = dwordvec\n",
    "    \n",
    "    return grads"
   ]
  },
  {
   "cell_type": "code",
   "execution_count": 18,
   "metadata": {},
   "outputs": [],
   "source": [
    "def update_params(params, caches, grads, learning_rate):\n",
    "    vocabulary_size, dimension = params['word_embedding'].shape\n",
    "    ind = caches['ind']\n",
    "    word_embedding = params['word_embedding']\n",
    "    dwordvec = grads['dwordvec']\n",
    "    m = ind.shape[-1]\n",
    "    \n",
    "    word_embedding[ind.flatten(), :] -= dwordvec.T * learning_rate\n",
    "\n",
    "    params['dense'] -= learning_rate * grads['ddense']"
   ]
  },
  {
   "cell_type": "code",
   "execution_count": 19,
   "metadata": {},
   "outputs": [],
   "source": [
    "from datetime import datetime\n",
    "import matplotlib.pyplot as plt\n",
    "\n",
    "def skipgram_model(x, y, vocabulary_size, dimension, learning_rate, epochs, batch_size=256, \n",
    "                            parameters=None, print_cost=True, plot_cost=True):\n",
    "    costs = []\n",
    "    m = x.shape[1]\n",
    "    start = datetime.now()\n",
    "    \n",
    "    if parameters is None:\n",
    "        params = initialize_parameters(vocabulary_size, dimension)\n",
    "    \n",
    "    for epoch in range(epochs):\n",
    "        epoch_cost = 0\n",
    "        batch_inds = list(range(0, m, batch_size))\n",
    "        np.random.shuffle(batch_inds)\n",
    "        for i in batch_inds:\n",
    "            x_batch = x[:, i:i+batch_size]\n",
    "            y_batch = y[:, i:i+batch_size]\n",
    "\n",
    "            output, cache = forward_prop(x_batch, params)\n",
    "            grads = back_prop(y_batch, output, cache)\n",
    "            update_params(params, cache, grads, learning_rate)\n",
    "            cost = cross_entropy_cost(output, y_batch)\n",
    "            epoch_cost += np.squeeze(cost)\n",
    "            \n",
    "        costs.append(epoch_cost)\n",
    "        if print_cost and epoch % 100 == 0:\n",
    "            print(\"Cost after epoch {}: {}\".format(epoch, epoch_cost))\n",
    "    end = datetime.now()\n",
    "    print(\"Training time : {}\".format(end - start))\n",
    "            \n",
    "    if plot_cost:\n",
    "        plt.plot(np.arange(epochs), costs)\n",
    "        plt.xlabel('# of epochs')\n",
    "        plt.ylabel('cost')\n",
    "    return params"
   ]
  },
  {
   "cell_type": "code",
   "execution_count": 20,
   "metadata": {},
   "outputs": [
    {
     "name": "stdout",
     "output_type": "stream",
     "text": [
      "Cost after epoch 0: 2.3870471543425853\n",
      "Cost after epoch 100: 2.3870078967094135\n",
      "Cost after epoch 200: 2.3869685764026216\n",
      "Cost after epoch 300: 2.3869290584271563\n",
      "Cost after epoch 400: 2.3868892077148596\n",
      "Cost after epoch 500: 2.3868488890555883\n",
      "Cost after epoch 600: 2.386807967030744\n",
      "Cost after epoch 700: 2.3867663059491853\n",
      "Cost after epoch 800: 2.3867237697855295\n",
      "Cost after epoch 900: 2.3866802221208268\n",
      "Cost after epoch 1000: 2.3866355260856036\n",
      "Cost after epoch 1100: 2.3865895443053144\n",
      "Cost after epoch 1200: 2.3865421388481876\n",
      "Cost after epoch 1300: 2.3864931711755215\n",
      "Cost after epoch 1400: 2.386442502094443\n",
      "Cost after epoch 1500: 2.38638999171318\n",
      "Cost after epoch 1600: 2.386335499398904\n",
      "Cost after epoch 1700: 2.3862788837381785\n",
      "Cost after epoch 1800: 2.3862200025001026\n",
      "Cost after epoch 1900: 2.3861587126021955\n",
      "Cost after epoch 2000: 2.3860948700791185\n",
      "Cost after epoch 2100: 2.3860283300543084\n",
      "Cost after epoch 2200: 2.385958946714624\n",
      "Cost after epoch 2300: 2.3858865732880936\n",
      "Cost after epoch 2400: 2.3858110620248763\n",
      "Cost after epoch 2500: 2.385732264181551\n",
      "Cost after epoch 2600: 2.3856500300088492\n",
      "Cost after epoch 2700: 2.3855642087429616\n",
      "Cost after epoch 2800: 2.3854746486005407\n",
      "Cost after epoch 2900: 2.38538119677756\n",
      "Cost after epoch 3000: 2.3852836994521494\n",
      "Cost after epoch 3100: 2.3851820017915735\n",
      "Cost after epoch 3200: 2.385075947963514\n",
      "Cost after epoch 3300: 2.384965381151795\n",
      "Cost after epoch 3400: 2.38485014357675\n",
      "Cost after epoch 3500: 2.3847300765203805\n",
      "Cost after epoch 3600: 2.3846050203564806\n",
      "Cost after epoch 3700: 2.3844748145859347\n",
      "Cost after epoch 3800: 2.3843392978773355\n",
      "Cost after epoch 3900: 2.384198308113136\n",
      "Cost after epoch 4000: 2.384051682441516\n",
      "Cost after epoch 4100: 2.3838992573341518\n",
      "Cost after epoch 4200: 2.383740868650079\n",
      "Cost after epoch 4300: 2.383576351705846\n",
      "Cost after epoch 4400: 2.383405541352151\n",
      "Cost after epoch 4500: 2.383228272057138\n",
      "Cost after epoch 4600: 2.3830443779965558\n",
      "Cost after epoch 4700: 2.382853693150953\n",
      "Cost after epoch 4800: 2.3826560514100943\n",
      "Cost after epoch 4900: 2.38245128668476\n",
      "Training time : 0:00:01.721580\n"
     ]
    },
    {
     "data": {
      "image/png": "[encoded data removed]",
      "text/plain": [
       "<Figure size 432x288 with 1 Axes>"
      ]
     },
     "metadata": {
      "needs_background": "light"
     },
     "output_type": "display_data"
    }
   ],
   "source": [
    "params = skipgram_model(x, y_oh, vocabulary_size, 100, 0.001, 5000, batch_size = 128, parameters = None, print_cost = True)"
   ]
  },
  {
   "cell_type": "code",
   "execution_count": 21,
   "metadata": {},
   "outputs": [],
   "source": [
    "test = np.arange(vocabulary_size)\n",
    "test = np.expand_dims(test, axis = 0)\n",
    "output, cache = forward_prop(test, params)\n",
    "sorted_index = np.argsort(output, axis = 0)[-4:, :]"
   ]
  },
  {
   "cell_type": "code",
   "execution_count": 26,
   "metadata": {},
   "outputs": [
    {
     "name": "stdout",
     "output_type": "stream",
     "text": [
      "to's neighbor words: ['.', 'footballer', 'the', 'greatest']\n",
      "pitch's neighbor words: ['.', 'footballer', 'the', 'greatest']\n",
      "greatest's neighbor words: ['the', 'to', 'pitch', 'ever']\n",
      "the's neighbor words: ['.', 'footballer', 'the', 'greatest']\n",
      ".'s neighbor words: ['pitch', 'the', 'grace', 'ever']\n",
      "grace's neighbor words: ['.', 'footballer', 'the', 'greatest']\n",
      "footballer's neighbor words: ['pitch', 'the', 'grace', 'ever']\n",
      "ever's neighbor words: ['.', 'footballer', 'the', 'greatest']\n",
      "Messi's neighbor words: ['to', 'is', 'Lionel', 'the']\n",
      "Lionel's neighbor words: ['footballer', '.', 'Messi', 'greatest']\n",
      "is's neighbor words: ['ever', 'Lionel', 'grace', 'to']\n"
     ]
    }
   ],
   "source": [
    "for indx in range(vocabulary_size):\n",
    "    input_word = index_to_word[indx]\n",
    "    output_words = [index_to_word[output_ind] for output_ind in sorted_index[::-1, indx]]\n",
    "    print(\"{}'s neighbor words: {}\".format(input_word, output_words))"
   ]
  },
  {
   "cell_type": "code",
   "execution_count": null,
   "metadata": {},
   "outputs": [],
   "source": []
  }
 ],
 "metadata": {
  "kernelspec": {
   "display_name": "Python 3",
   "language": "python",
   "name": "python3"
  },
  "language_info": {
   "codemirror_mode": {
    "name": "ipython",
    "version": 3
   },
   "file_extension": ".py",
   "mimetype": "text/x-python",
   "name": "python",
   "nbconvert_exporter": "python",
   "pygments_lexer": "ipython3",
   "version": "3.7.7"
  }
 },
 "nbformat": 4,
 "nbformat_minor": 4
}
